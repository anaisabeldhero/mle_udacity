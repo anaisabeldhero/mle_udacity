{
 "cells": [
  {
   "cell_type": "markdown",
   "metadata": {},
   "source": [
    "## Hyperparameter Tunning Notebook\n",
    "\n",
    "This notebook objective is to tune the models that will be used for the analysis of the price stocks aiming to finalize with higher performance than standards one. \n",
    "\n",
    "The models to tune will be added from `models.py` file, that includes 3 classes with:\n",
    "\n",
    "1. ARIMA\n",
    "2. Prophet \n",
    "3. LSTM neural network\n",
    "    - 1 LSTM nn\n",
    "    - 2 stacked LSTM nn\n",
    "    - 3 stacked LSTM nn\n",
    "    - 4 stacked LSTM nn\n",
    "    - Bidirectional LSTM nn.\n",
    "    \n",
    "The tune will be processed in that order."
   ]
  },
  {
   "cell_type": "code",
   "execution_count": 1,
   "metadata": {},
   "outputs": [],
   "source": [
    "# libraries needed for hyperparameter tunning.\n",
    "import pandas as pd\n",
    "import matplotlib.pyplot as plt\n",
    "\n",
    "from utils.data_preprocessing import download_stocks_from_list, prepare_df, impute_data_points\n",
    "from utils.model_utils import run_arima_model, run_prophet_model, run_sequential_lstm_model, model_decision\n",
    "\n",
    "from utils.data.data_config import LIST_DAX_COMPANIES\n",
    "\n",
    "import warnings\n",
    "warnings.filterwarnings('ignore')\n",
    "\n",
    "import logging\n",
    "logging.getLogger(\"tensorflow\").setLevel(logging.ERROR)\n"
   ]
  },
  {
   "cell_type": "markdown",
   "metadata": {},
   "source": [
    "### Data Preparation \n",
    "\n",
    "First step is to read and prepare the input data. The functions are imported from `data_preprocessing` file. \n",
    "\n",
    "The hyperparameter tuning will be developed with the linear imputation method."
   ]
  },
  {
   "cell_type": "code",
   "execution_count": 2,
   "metadata": {},
   "outputs": [],
   "source": [
    "df = prepare_df()\n",
    "\n",
    "df_imputed_linear = impute_data_points(df, interpolation_method='linear')"
   ]
  },
  {
   "cell_type": "code",
   "execution_count": 3,
   "metadata": {},
   "outputs": [
    {
     "data": {
      "text/html": [
       "<div>\n",
       "<style scoped>\n",
       "    .dataframe tbody tr th:only-of-type {\n",
       "        vertical-align: middle;\n",
       "    }\n",
       "\n",
       "    .dataframe tbody tr th {\n",
       "        vertical-align: top;\n",
       "    }\n",
       "\n",
       "    .dataframe thead tr th {\n",
       "        text-align: left;\n",
       "    }\n",
       "</style>\n",
       "<table border=\"1\" class=\"dataframe\">\n",
       "  <thead>\n",
       "    <tr>\n",
       "      <th></th>\n",
       "      <th>1COV.DE</th>\n",
       "      <th>ADS.DE</th>\n",
       "      <th>ALV.DE</th>\n",
       "      <th>BAS.DE</th>\n",
       "      <th>BAYN.DE</th>\n",
       "      <th>BEI.DE</th>\n",
       "      <th>BMW.DE</th>\n",
       "      <th>CON.DE</th>\n",
       "      <th>DAI.DE</th>\n",
       "      <th>DB1.DE</th>\n",
       "      <th>...</th>\n",
       "      <th>IFX.DE</th>\n",
       "      <th>LIN.DE</th>\n",
       "      <th>MRK.DE</th>\n",
       "      <th>MTX.F</th>\n",
       "      <th>MURGY</th>\n",
       "      <th>RWE.DE</th>\n",
       "      <th>SAP.DE</th>\n",
       "      <th>SIE.DE</th>\n",
       "      <th>VNA.DE</th>\n",
       "      <th>VOW.DE</th>\n",
       "    </tr>\n",
       "    <tr>\n",
       "      <th></th>\n",
       "      <th>Adj Close</th>\n",
       "      <th>Adj Close</th>\n",
       "      <th>Adj Close</th>\n",
       "      <th>Adj Close</th>\n",
       "      <th>Adj Close</th>\n",
       "      <th>Adj Close</th>\n",
       "      <th>Adj Close</th>\n",
       "      <th>Adj Close</th>\n",
       "      <th>Adj Close</th>\n",
       "      <th>Adj Close</th>\n",
       "      <th>...</th>\n",
       "      <th>Volume</th>\n",
       "      <th>Volume</th>\n",
       "      <th>Volume</th>\n",
       "      <th>Volume</th>\n",
       "      <th>Volume</th>\n",
       "      <th>Volume</th>\n",
       "      <th>Volume</th>\n",
       "      <th>Volume</th>\n",
       "      <th>Volume</th>\n",
       "      <th>Volume</th>\n",
       "    </tr>\n",
       "  </thead>\n",
       "  <tbody>\n",
       "    <tr>\n",
       "      <th>count</th>\n",
       "      <td>1311.000000</td>\n",
       "      <td>1311.000000</td>\n",
       "      <td>1311.000000</td>\n",
       "      <td>1311.000000</td>\n",
       "      <td>1311.000000</td>\n",
       "      <td>1311.000000</td>\n",
       "      <td>1311.000000</td>\n",
       "      <td>1311.000000</td>\n",
       "      <td>1311.000000</td>\n",
       "      <td>1311.000000</td>\n",
       "      <td>...</td>\n",
       "      <td>1.311000e+03</td>\n",
       "      <td>1.311000e+03</td>\n",
       "      <td>1.311000e+03</td>\n",
       "      <td>1311.000000</td>\n",
       "      <td>1.311000e+03</td>\n",
       "      <td>1.311000e+03</td>\n",
       "      <td>1.311000e+03</td>\n",
       "      <td>1.311000e+03</td>\n",
       "      <td>1.311000e+03</td>\n",
       "      <td>1311.000000</td>\n",
       "    </tr>\n",
       "    <tr>\n",
       "      <th>mean</th>\n",
       "      <td>46.361376</td>\n",
       "      <td>194.696039</td>\n",
       "      <td>160.905193</td>\n",
       "      <td>59.484050</td>\n",
       "      <td>73.502325</td>\n",
       "      <td>91.558810</td>\n",
       "      <td>66.426287</td>\n",
       "      <td>139.608830</td>\n",
       "      <td>48.850128</td>\n",
       "      <td>105.205484</td>\n",
       "      <td>...</td>\n",
       "      <td>5.913759e+06</td>\n",
       "      <td>4.570961e+05</td>\n",
       "      <td>5.119091e+05</td>\n",
       "      <td>686.576659</td>\n",
       "      <td>7.061648e+04</td>\n",
       "      <td>3.972618e+06</td>\n",
       "      <td>2.599842e+06</td>\n",
       "      <td>2.305149e+06</td>\n",
       "      <td>1.420675e+06</td>\n",
       "      <td>94475.192220</td>\n",
       "    </tr>\n",
       "    <tr>\n",
       "      <th>std</th>\n",
       "      <td>14.110612</td>\n",
       "      <td>57.671149</td>\n",
       "      <td>29.880097</td>\n",
       "      <td>9.338290</td>\n",
       "      <td>15.879234</td>\n",
       "      <td>9.171365</td>\n",
       "      <td>7.553886</td>\n",
       "      <td>36.849964</td>\n",
       "      <td>7.626227</td>\n",
       "      <td>29.065888</td>\n",
       "      <td>...</td>\n",
       "      <td>3.167616e+06</td>\n",
       "      <td>8.427523e+05</td>\n",
       "      <td>2.366998e+05</td>\n",
       "      <td>1519.819614</td>\n",
       "      <td>1.105311e+05</td>\n",
       "      <td>2.395043e+06</td>\n",
       "      <td>1.591414e+06</td>\n",
       "      <td>1.241589e+06</td>\n",
       "      <td>6.343202e+05</td>\n",
       "      <td>49005.220087</td>\n",
       "    </tr>\n",
       "    <tr>\n",
       "      <th>min</th>\n",
       "      <td>20.294693</td>\n",
       "      <td>76.546570</td>\n",
       "      <td>98.523102</td>\n",
       "      <td>34.059311</td>\n",
       "      <td>40.360001</td>\n",
       "      <td>73.293762</td>\n",
       "      <td>35.660213</td>\n",
       "      <td>49.555496</td>\n",
       "      <td>20.560038</td>\n",
       "      <td>60.580975</td>\n",
       "      <td>...</td>\n",
       "      <td>0.000000e+00</td>\n",
       "      <td>0.000000e+00</td>\n",
       "      <td>0.000000e+00</td>\n",
       "      <td>0.000000</td>\n",
       "      <td>7.100000e+03</td>\n",
       "      <td>0.000000e+00</td>\n",
       "      <td>0.000000e+00</td>\n",
       "      <td>0.000000e+00</td>\n",
       "      <td>0.000000e+00</td>\n",
       "      <td>0.000000</td>\n",
       "    </tr>\n",
       "    <tr>\n",
       "      <th>25%</th>\n",
       "      <td>36.026791</td>\n",
       "      <td>159.202858</td>\n",
       "      <td>140.655769</td>\n",
       "      <td>52.814320</td>\n",
       "      <td>59.878864</td>\n",
       "      <td>84.792740</td>\n",
       "      <td>61.638380</td>\n",
       "      <td>110.824215</td>\n",
       "      <td>44.795918</td>\n",
       "      <td>78.585106</td>\n",
       "      <td>...</td>\n",
       "      <td>3.861482e+06</td>\n",
       "      <td>0.000000e+00</td>\n",
       "      <td>3.681635e+05</td>\n",
       "      <td>77.000000</td>\n",
       "      <td>3.210000e+04</td>\n",
       "      <td>2.593597e+06</td>\n",
       "      <td>1.781683e+06</td>\n",
       "      <td>1.592822e+06</td>\n",
       "      <td>1.035612e+06</td>\n",
       "      <td>62442.000000</td>\n",
       "    </tr>\n",
       "    <tr>\n",
       "      <th>50%</th>\n",
       "      <td>43.383354</td>\n",
       "      <td>187.431351</td>\n",
       "      <td>164.880005</td>\n",
       "      <td>57.857639</td>\n",
       "      <td>73.847107</td>\n",
       "      <td>92.106804</td>\n",
       "      <td>66.736839</td>\n",
       "      <td>141.710541</td>\n",
       "      <td>49.324951</td>\n",
       "      <td>106.744141</td>\n",
       "      <td>...</td>\n",
       "      <td>5.041887e+06</td>\n",
       "      <td>0.000000e+00</td>\n",
       "      <td>4.581960e+05</td>\n",
       "      <td>220.500000</td>\n",
       "      <td>4.470000e+04</td>\n",
       "      <td>3.429647e+06</td>\n",
       "      <td>2.200325e+06</td>\n",
       "      <td>2.020846e+06</td>\n",
       "      <td>1.289642e+06</td>\n",
       "      <td>84605.000000</td>\n",
       "    </tr>\n",
       "    <tr>\n",
       "      <th>75%</th>\n",
       "      <td>56.938112</td>\n",
       "      <td>250.330986</td>\n",
       "      <td>183.401459</td>\n",
       "      <td>67.969803</td>\n",
       "      <td>86.349686</td>\n",
       "      <td>97.681351</td>\n",
       "      <td>72.475639</td>\n",
       "      <td>166.352165</td>\n",
       "      <td>55.046583</td>\n",
       "      <td>132.692017</td>\n",
       "      <td>...</td>\n",
       "      <td>6.962614e+06</td>\n",
       "      <td>7.565430e+05</td>\n",
       "      <td>5.907545e+05</td>\n",
       "      <td>576.500000</td>\n",
       "      <td>6.995000e+04</td>\n",
       "      <td>4.630854e+06</td>\n",
       "      <td>2.890839e+06</td>\n",
       "      <td>2.593110e+06</td>\n",
       "      <td>1.615288e+06</td>\n",
       "      <td>112686.000000</td>\n",
       "    </tr>\n",
       "    <tr>\n",
       "      <th>max</th>\n",
       "      <td>78.717293</td>\n",
       "      <td>309.818024</td>\n",
       "      <td>218.202454</td>\n",
       "      <td>78.570663</td>\n",
       "      <td>107.656120</td>\n",
       "      <td>115.493759</td>\n",
       "      <td>82.866203</td>\n",
       "      <td>218.441803</td>\n",
       "      <td>63.200882</td>\n",
       "      <td>169.000000</td>\n",
       "      <td>...</td>\n",
       "      <td>3.116724e+07</td>\n",
       "      <td>1.594435e+07</td>\n",
       "      <td>2.215131e+06</td>\n",
       "      <td>20283.000000</td>\n",
       "      <td>2.571300e+06</td>\n",
       "      <td>3.418952e+07</td>\n",
       "      <td>2.220034e+07</td>\n",
       "      <td>1.214755e+07</td>\n",
       "      <td>5.966401e+06</td>\n",
       "      <td>419225.000000</td>\n",
       "    </tr>\n",
       "  </tbody>\n",
       "</table>\n",
       "<p>8 rows × 180 columns</p>\n",
       "</div>"
      ],
      "text/plain": [
       "           1COV.DE       ADS.DE       ALV.DE       BAS.DE      BAYN.DE  \\\n",
       "         Adj Close    Adj Close    Adj Close    Adj Close    Adj Close   \n",
       "count  1311.000000  1311.000000  1311.000000  1311.000000  1311.000000   \n",
       "mean     46.361376   194.696039   160.905193    59.484050    73.502325   \n",
       "std      14.110612    57.671149    29.880097     9.338290    15.879234   \n",
       "min      20.294693    76.546570    98.523102    34.059311    40.360001   \n",
       "25%      36.026791   159.202858   140.655769    52.814320    59.878864   \n",
       "50%      43.383354   187.431351   164.880005    57.857639    73.847107   \n",
       "75%      56.938112   250.330986   183.401459    67.969803    86.349686   \n",
       "max      78.717293   309.818024   218.202454    78.570663   107.656120   \n",
       "\n",
       "            BEI.DE       BMW.DE       CON.DE       DAI.DE       DB1.DE  ...  \\\n",
       "         Adj Close    Adj Close    Adj Close    Adj Close    Adj Close  ...   \n",
       "count  1311.000000  1311.000000  1311.000000  1311.000000  1311.000000  ...   \n",
       "mean     91.558810    66.426287   139.608830    48.850128   105.205484  ...   \n",
       "std       9.171365     7.553886    36.849964     7.626227    29.065888  ...   \n",
       "min      73.293762    35.660213    49.555496    20.560038    60.580975  ...   \n",
       "25%      84.792740    61.638380   110.824215    44.795918    78.585106  ...   \n",
       "50%      92.106804    66.736839   141.710541    49.324951   106.744141  ...   \n",
       "75%      97.681351    72.475639   166.352165    55.046583   132.692017  ...   \n",
       "max     115.493759    82.866203   218.441803    63.200882   169.000000  ...   \n",
       "\n",
       "             IFX.DE        LIN.DE        MRK.DE         MTX.F         MURGY  \\\n",
       "             Volume        Volume        Volume        Volume        Volume   \n",
       "count  1.311000e+03  1.311000e+03  1.311000e+03   1311.000000  1.311000e+03   \n",
       "mean   5.913759e+06  4.570961e+05  5.119091e+05    686.576659  7.061648e+04   \n",
       "std    3.167616e+06  8.427523e+05  2.366998e+05   1519.819614  1.105311e+05   \n",
       "min    0.000000e+00  0.000000e+00  0.000000e+00      0.000000  7.100000e+03   \n",
       "25%    3.861482e+06  0.000000e+00  3.681635e+05     77.000000  3.210000e+04   \n",
       "50%    5.041887e+06  0.000000e+00  4.581960e+05    220.500000  4.470000e+04   \n",
       "75%    6.962614e+06  7.565430e+05  5.907545e+05    576.500000  6.995000e+04   \n",
       "max    3.116724e+07  1.594435e+07  2.215131e+06  20283.000000  2.571300e+06   \n",
       "\n",
       "             RWE.DE        SAP.DE        SIE.DE        VNA.DE         VOW.DE  \n",
       "             Volume        Volume        Volume        Volume         Volume  \n",
       "count  1.311000e+03  1.311000e+03  1.311000e+03  1.311000e+03    1311.000000  \n",
       "mean   3.972618e+06  2.599842e+06  2.305149e+06  1.420675e+06   94475.192220  \n",
       "std    2.395043e+06  1.591414e+06  1.241589e+06  6.343202e+05   49005.220087  \n",
       "min    0.000000e+00  0.000000e+00  0.000000e+00  0.000000e+00       0.000000  \n",
       "25%    2.593597e+06  1.781683e+06  1.592822e+06  1.035612e+06   62442.000000  \n",
       "50%    3.429647e+06  2.200325e+06  2.020846e+06  1.289642e+06   84605.000000  \n",
       "75%    4.630854e+06  2.890839e+06  2.593110e+06  1.615288e+06  112686.000000  \n",
       "max    3.418952e+07  2.220034e+07  1.214755e+07  5.966401e+06  419225.000000  \n",
       "\n",
       "[8 rows x 180 columns]"
      ]
     },
     "execution_count": 3,
     "metadata": {},
     "output_type": "execute_result"
    }
   ],
   "source": [
    "df_imputed_linear.describe()"
   ]
  },
  {
   "cell_type": "markdown",
   "metadata": {},
   "source": [
    "## 1. Benchmarking - ARIMA model "
   ]
  },
  {
   "cell_type": "code",
   "execution_count": 4,
   "metadata": {},
   "outputs": [],
   "source": [
    "def hyperparameter_tunning_arima(df, symbol, p_list, d_list, q_list):\n",
    "    k, horizon = 8, 5\n",
    "    end_value_fold = int(len(df[symbol]['Adj Close'].dropna())/k)\n",
    "    RMSE_error_total = []\n",
    "    RMSE = []\n",
    "    for p in p_list:\n",
    "        for d in d_list:\n",
    "            for q in q_list:\n",
    "    \n",
    "                for current_k in range(k-1):\n",
    "                    RMSE_error_total.append(run_arima_model(horizon, current_k, end_value_fold, df[symbol].dropna(), 'Adj Close', p, d, q))\n",
    "\n",
    "                rmse_mean = sum(RMSE_error_total)/(k-1)\n",
    "                RMSE.append(rmse_mean)\n",
    "                print(f\"- The average RMSE of symbol {symbol} of the CV with {k}-fold with hyperparameters {p}, {d}, {q} is: {rmse_mean}\")\n",
    "                RMSE_error_total = []\n",
    "                \n",
    "    return RMSE"
   ]
  },
  {
   "cell_type": "code",
   "execution_count": 6,
   "metadata": {},
   "outputs": [
    {
     "name": "stdout",
     "output_type": "stream",
     "text": [
      "- The average RMSE of symbol 1COV.DE of the CV with 8-fold with hyperparameters 2, 1, 0 is: 1.059404000931205\n",
      "- The average RMSE of symbol 1COV.DE of the CV with 8-fold with hyperparameters 4, 1, 0 is: 1.073282395630306\n",
      "- The average RMSE of symbol 1COV.DE of the CV with 8-fold with hyperparameters 6, 1, 0 is: 1.085458783835686\n",
      "- The average RMSE of symbol 1COV.DE of the CV with 8-fold with hyperparameters 8, 1, 0 is: 1.078245164571292\n",
      "- The average RMSE of symbol 1COV.DE of the CV with 8-fold with hyperparameters 10, 1, 0 is: 1.072678156070463\n",
      "- The average RMSE of symbol 1COV.DE of the CV with 8-fold with hyperparameters 12, 1, 0 is: 1.0802458934287742\n",
      "- The average RMSE of symbol 1COV.DE of the CV with 8-fold with hyperparameters 14, 1, 0 is: 1.082954350460988\n"
     ]
    }
   ],
   "source": [
    "cov = hyperparameter_tunning_arima(df_imputed_linear, '1COV.DE', p_list=[x for x in range(2, 16, 2)], d_list=[1], q_list=[0])"
   ]
  },
  {
   "cell_type": "code",
   "execution_count": 7,
   "metadata": {},
   "outputs": [
    {
     "name": "stdout",
     "output_type": "stream",
     "text": [
      "- The average RMSE of symbol ADS.DE of the CV with 8-fold with hyperparameters 2, 1, 0 is: 4.5108788628494665\n",
      "- The average RMSE of symbol ADS.DE of the CV with 8-fold with hyperparameters 4, 1, 0 is: 4.577851538374389\n",
      "- The average RMSE of symbol ADS.DE of the CV with 8-fold with hyperparameters 6, 1, 0 is: 4.560390905193605\n",
      "- The average RMSE of symbol ADS.DE of the CV with 8-fold with hyperparameters 8, 1, 0 is: 4.406152861979186\n",
      "- The average RMSE of symbol ADS.DE of the CV with 8-fold with hyperparameters 10, 1, 0 is: 4.468734427562545\n",
      "- The average RMSE of symbol ADS.DE of the CV with 8-fold with hyperparameters 12, 1, 0 is: 4.430335340166816\n",
      "- The average RMSE of symbol ADS.DE of the CV with 8-fold with hyperparameters 14, 1, 0 is: 4.354016123553398\n"
     ]
    }
   ],
   "source": [
    "ads = hyperparameter_tunning_arima(df_imputed_linear, 'ADS.DE', p_list=[x for x in range(2, 16, 2)], d_list=[1], q_list=[0])"
   ]
  },
  {
   "cell_type": "code",
   "execution_count": 8,
   "metadata": {},
   "outputs": [
    {
     "name": "stdout",
     "output_type": "stream",
     "text": [
      "- The average RMSE of symbol MRK.DE of the CV with 8-fold with hyperparameters 2, 1, 0 is: 1.2458204837381301\n",
      "- The average RMSE of symbol MRK.DE of the CV with 8-fold with hyperparameters 4, 1, 0 is: 1.2187474782896466\n",
      "- The average RMSE of symbol MRK.DE of the CV with 8-fold with hyperparameters 6, 1, 0 is: 1.200981085689698\n",
      "- The average RMSE of symbol MRK.DE of the CV with 8-fold with hyperparameters 8, 1, 0 is: 1.2278314424366734\n",
      "- The average RMSE of symbol MRK.DE of the CV with 8-fold with hyperparameters 10, 1, 0 is: 1.2175160429369298\n",
      "- The average RMSE of symbol MRK.DE of the CV with 8-fold with hyperparameters 12, 1, 0 is: 1.261593003410295\n",
      "- The average RMSE of symbol MRK.DE of the CV with 8-fold with hyperparameters 14, 1, 0 is: 1.2814208242637584\n"
     ]
    }
   ],
   "source": [
    "mrk = hyperparameter_tunning_arima(df_imputed_linear, 'MRK.DE', p_list=[x for x in range(2, 16, 2)], d_list=[1], q_list=[0])"
   ]
  },
  {
   "cell_type": "markdown",
   "metadata": {},
   "source": [
    "For the first 3 symbols we don't see a clear **p** that performs better but we can narrow down to a range of [6, 8, 10] in order to find which one is better."
   ]
  },
  {
   "cell_type": "code",
   "execution_count": 5,
   "metadata": {},
   "outputs": [
    {
     "name": "stdout",
     "output_type": "stream",
     "text": [
      "- The average RMSE of symbol 1COV.DE of the CV with 8-fold with hyperparameters 6, 1, 0 is: 1.085458783835686\n",
      "- The average RMSE of symbol 1COV.DE of the CV with 8-fold with hyperparameters 8, 1, 0 is: 1.078245164571292\n",
      "- The average RMSE of symbol 1COV.DE of the CV with 8-fold with hyperparameters 10, 1, 0 is: 1.072678156070463\n",
      "\n",
      "- The average RMSE of symbol ADS.DE of the CV with 8-fold with hyperparameters 6, 1, 0 is: 4.560390905193605\n",
      "- The average RMSE of symbol ADS.DE of the CV with 8-fold with hyperparameters 8, 1, 0 is: 4.406152861979186\n",
      "- The average RMSE of symbol ADS.DE of the CV with 8-fold with hyperparameters 10, 1, 0 is: 4.468734427562545\n",
      "\n",
      "- The average RMSE of symbol ALV.DE of the CV with 8-fold with hyperparameters 6, 1, 0 is: 2.617497075565744\n",
      "- The average RMSE of symbol ALV.DE of the CV with 8-fold with hyperparameters 8, 1, 0 is: 2.7107344690660287\n",
      "- The average RMSE of symbol ALV.DE of the CV with 8-fold with hyperparameters 10, 1, 0 is: 2.7826155050617105\n",
      "\n",
      "- The average RMSE of symbol BAS.DE of the CV with 8-fold with hyperparameters 6, 1, 0 is: 1.0078767396076298\n",
      "- The average RMSE of symbol BAS.DE of the CV with 8-fold with hyperparameters 8, 1, 0 is: 0.984529563423785\n",
      "- The average RMSE of symbol BAS.DE of the CV with 8-fold with hyperparameters 10, 1, 0 is: 1.008260503015499\n",
      "\n",
      "- The average RMSE of symbol BAYN.DE of the CV with 8-fold with hyperparameters 6, 1, 0 is: 1.2838589876320354\n",
      "- The average RMSE of symbol BAYN.DE of the CV with 8-fold with hyperparameters 8, 1, 0 is: 1.3097136401313807\n",
      "- The average RMSE of symbol BAYN.DE of the CV with 8-fold with hyperparameters 10, 1, 0 is: 1.3263593006263095\n",
      "\n",
      "- The average RMSE of symbol BEI.DE of the CV with 8-fold with hyperparameters 6, 1, 0 is: 0.936660558624436\n",
      "- The average RMSE of symbol BEI.DE of the CV with 8-fold with hyperparameters 8, 1, 0 is: 0.9437976792419364\n",
      "- The average RMSE of symbol BEI.DE of the CV with 8-fold with hyperparameters 10, 1, 0 is: 0.9375686291618465\n",
      "\n",
      "- The average RMSE of symbol BMW.DE of the CV with 8-fold with hyperparameters 6, 1, 0 is: 1.000699860693544\n",
      "- The average RMSE of symbol BMW.DE of the CV with 8-fold with hyperparameters 8, 1, 0 is: 1.0113022800926612\n",
      "- The average RMSE of symbol BMW.DE of the CV with 8-fold with hyperparameters 10, 1, 0 is: 1.012785491836495\n",
      "\n",
      "- The average RMSE of symbol CON.DE of the CV with 8-fold with hyperparameters 6, 1, 0 is: 2.3326047882249994\n",
      "- The average RMSE of symbol CON.DE of the CV with 8-fold with hyperparameters 8, 1, 0 is: 2.2153283812167652\n",
      "- The average RMSE of symbol CON.DE of the CV with 8-fold with hyperparameters 10, 1, 0 is: 2.1868332796084315\n",
      "\n",
      "- The average RMSE of symbol DAI.DE of the CV with 8-fold with hyperparameters 6, 1, 0 is: 0.7358617151025884\n",
      "- The average RMSE of symbol DAI.DE of the CV with 8-fold with hyperparameters 8, 1, 0 is: 0.7455766370933224\n",
      "- The average RMSE of symbol DAI.DE of the CV with 8-fold with hyperparameters 10, 1, 0 is: 0.7490727717522245\n",
      "\n",
      "- The average RMSE of symbol DB1.DE of the CV with 8-fold with hyperparameters 6, 1, 0 is: 1.831492539933866\n",
      "- The average RMSE of symbol DB1.DE of the CV with 8-fold with hyperparameters 8, 1, 0 is: 1.8066686467237905\n",
      "- The average RMSE of symbol DB1.DE of the CV with 8-fold with hyperparameters 10, 1, 0 is: 1.821162109242189\n",
      "\n",
      "- The average RMSE of symbol DBK.DE of the CV with 8-fold with hyperparameters 6, 1, 0 is: 0.34173270559662466\n",
      "- The average RMSE of symbol DBK.DE of the CV with 8-fold with hyperparameters 8, 1, 0 is: 0.34373153606982365\n",
      "- The average RMSE of symbol DBK.DE of the CV with 8-fold with hyperparameters 10, 1, 0 is: 0.345127006211727\n",
      "\n",
      "- The average RMSE of symbol DHER.DE of the CV with 8-fold with hyperparameters 6, 1, 0 is: 1.841864292834546\n",
      "- The average RMSE of symbol DHER.DE of the CV with 8-fold with hyperparameters 8, 1, 0 is: 1.8629744729806836\n",
      "- The average RMSE of symbol DHER.DE of the CV with 8-fold with hyperparameters 10, 1, 0 is: 1.8414662594208422\n",
      "\n",
      "- The average RMSE of symbol DPW.DE of the CV with 8-fold with hyperparameters 6, 1, 0 is: 0.41412405346282516\n",
      "- The average RMSE of symbol DPW.DE of the CV with 8-fold with hyperparameters 8, 1, 0 is: 0.4200391683279746\n",
      "- The average RMSE of symbol DPW.DE of the CV with 8-fold with hyperparameters 10, 1, 0 is: 0.42359375026591745\n",
      "\n",
      "- The average RMSE of symbol DTE.DE of the CV with 8-fold with hyperparameters 6, 1, 0 is: 0.1288211560344345\n",
      "- The average RMSE of symbol DTE.DE of the CV with 8-fold with hyperparameters 8, 1, 0 is: 0.13344946888342304\n",
      "- The average RMSE of symbol DTE.DE of the CV with 8-fold with hyperparameters 10, 1, 0 is: 0.12587802107362528\n",
      "\n",
      "- The average RMSE of symbol DWNI.DE of the CV with 8-fold with hyperparameters 6, 1, 0 is: 0.475360853527402\n",
      "- The average RMSE of symbol DWNI.DE of the CV with 8-fold with hyperparameters 8, 1, 0 is: 0.47603849058783937\n",
      "- The average RMSE of symbol DWNI.DE of the CV with 8-fold with hyperparameters 10, 1, 0 is: 0.47877716971339457\n",
      "\n",
      "- The average RMSE of symbol EOAN.DE of the CV with 8-fold with hyperparameters 6, 1, 0 is: 0.09798114673770127\n",
      "- The average RMSE of symbol EOAN.DE of the CV with 8-fold with hyperparameters 8, 1, 0 is: 0.0973360826320664\n",
      "- The average RMSE of symbol EOAN.DE of the CV with 8-fold with hyperparameters 10, 1, 0 is: 0.08603986660606251\n",
      "\n",
      "- The average RMSE of symbol FME.DE of the CV with 8-fold with hyperparameters 6, 1, 0 is: 1.2599561877358685\n",
      "- The average RMSE of symbol FME.DE of the CV with 8-fold with hyperparameters 8, 1, 0 is: 1.2677951157498004\n",
      "- The average RMSE of symbol FME.DE of the CV with 8-fold with hyperparameters 10, 1, 0 is: 1.2446588470710367\n",
      "\n",
      "- The average RMSE of symbol FRE.DE of the CV with 8-fold with hyperparameters 6, 1, 0 is: 0.6971959341445242\n",
      "- The average RMSE of symbol FRE.DE of the CV with 8-fold with hyperparameters 8, 1, 0 is: 0.7242478782768266\n",
      "- The average RMSE of symbol FRE.DE of the CV with 8-fold with hyperparameters 10, 1, 0 is: 0.7244135222317711\n",
      "\n",
      "- The average RMSE of symbol HEI.DE of the CV with 8-fold with hyperparameters 6, 1, 0 is: 0.9389955343541853\n",
      "- The average RMSE of symbol HEI.DE of the CV with 8-fold with hyperparameters 8, 1, 0 is: 0.9062895803749303\n",
      "- The average RMSE of symbol HEI.DE of the CV with 8-fold with hyperparameters 10, 1, 0 is: 1.0067867685172769\n",
      "\n",
      "- The average RMSE of symbol HEN3.DE of the CV with 8-fold with hyperparameters 6, 1, 0 is: 1.0785253593185156\n",
      "- The average RMSE of symbol HEN3.DE of the CV with 8-fold with hyperparameters 8, 1, 0 is: 1.2361791914824336\n",
      "- The average RMSE of symbol HEN3.DE of the CV with 8-fold with hyperparameters 10, 1, 0 is: 1.3696303517726558\n",
      "\n",
      "- The average RMSE of symbol SIE.DE of the CV with 8-fold with hyperparameters 6, 1, 0 is: 1.1210091961110193\n",
      "- The average RMSE of symbol SIE.DE of the CV with 8-fold with hyperparameters 8, 1, 0 is: 1.1652578858525275\n",
      "- The average RMSE of symbol SIE.DE of the CV with 8-fold with hyperparameters 10, 1, 0 is: 1.2343641429828711\n",
      "\n",
      "- The average RMSE of symbol SAP.DE of the CV with 8-fold with hyperparameters 6, 1, 0 is: 1.2714148094702453\n",
      "- The average RMSE of symbol SAP.DE of the CV with 8-fold with hyperparameters 8, 1, 0 is: 1.329924136117169\n",
      "- The average RMSE of symbol SAP.DE of the CV with 8-fold with hyperparameters 10, 1, 0 is: 1.3136883307379232\n",
      "\n",
      "- The average RMSE of symbol IFX.DE of the CV with 8-fold with hyperparameters 6, 1, 0 is: 0.4387555344074925\n",
      "- The average RMSE of symbol IFX.DE of the CV with 8-fold with hyperparameters 8, 1, 0 is: 0.439219099634661\n",
      "- The average RMSE of symbol IFX.DE of the CV with 8-fold with hyperparameters 10, 1, 0 is: 0.43994002485692196\n",
      "\n",
      "- The average RMSE of symbol LIN.DE of the CV with 8-fold with hyperparameters 6, 1, 0 is: 1.5675663893370728\n",
      "- The average RMSE of symbol LIN.DE of the CV with 8-fold with hyperparameters 8, 1, 0 is: 1.5671964127106344\n",
      "- The average RMSE of symbol LIN.DE of the CV with 8-fold with hyperparameters 10, 1, 0 is: 1.5787494745700523\n",
      "\n",
      "- The average RMSE of symbol MURGY of the CV with 8-fold with hyperparameters 6, 1, 0 is: 0.22223342753485692\n",
      "- The average RMSE of symbol MURGY of the CV with 8-fold with hyperparameters 8, 1, 0 is: 0.23777967631091432\n",
      "- The average RMSE of symbol MURGY of the CV with 8-fold with hyperparameters 10, 1, 0 is: 0.239707682053293\n",
      "\n",
      "- The average RMSE of symbol MRK.DE of the CV with 8-fold with hyperparameters 6, 1, 0 is: 1.2006453444266552\n",
      "- The average RMSE of symbol MRK.DE of the CV with 8-fold with hyperparameters 8, 1, 0 is: 1.2278636992993266\n",
      "- The average RMSE of symbol MRK.DE of the CV with 8-fold with hyperparameters 10, 1, 0 is: 1.217838568044533\n",
      "\n",
      "- The average RMSE of symbol MTX.F of the CV with 8-fold with hyperparameters 6, 1, 0 is: 2.8053724470355754\n",
      "- The average RMSE of symbol MTX.F of the CV with 8-fold with hyperparameters 8, 1, 0 is: 2.8234208972224084\n",
      "- The average RMSE of symbol MTX.F of the CV with 8-fold with hyperparameters 10, 1, 0 is: 2.8693437367089905\n",
      "\n",
      "- The average RMSE of symbol RWE.DE of the CV with 8-fold with hyperparameters 6, 1, 0 is: 0.4061111471682601\n",
      "- The average RMSE of symbol RWE.DE of the CV with 8-fold with hyperparameters 8, 1, 0 is: 0.4108672175641689\n",
      "- The average RMSE of symbol RWE.DE of the CV with 8-fold with hyperparameters 10, 1, 0 is: 0.41731525634901356\n",
      "\n",
      "- The average RMSE of symbol VNA.DE of the CV with 8-fold with hyperparameters 6, 1, 0 is: 0.4567273218222431\n",
      "- The average RMSE of symbol VNA.DE of the CV with 8-fold with hyperparameters 8, 1, 0 is: 0.4818278811723559\n",
      "- The average RMSE of symbol VNA.DE of the CV with 8-fold with hyperparameters 10, 1, 0 is: 0.47358866103266145\n",
      "\n",
      "- The average RMSE of symbol VOW.DE of the CV with 8-fold with hyperparameters 6, 1, 0 is: 2.3414508840186783\n",
      "- The average RMSE of symbol VOW.DE of the CV with 8-fold with hyperparameters 8, 1, 0 is: 2.2873540575394276\n",
      "- The average RMSE of symbol VOW.DE of the CV with 8-fold with hyperparameters 10, 1, 0 is: 2.2321275126108264\n",
      "\n"
     ]
    }
   ],
   "source": [
    "RMSE_arima = {}\n",
    "\n",
    "for symbol in LIST_DAX_COMPANIES:\n",
    "    RMSE_arima[symbol] = hyperparameter_tunning_arima(df_imputed_linear, symbol, p_list=[x for x in range(6, 12, 2)], d_list=[1], q_list=[0])\n",
    "    print('')"
   ]
  },
  {
   "cell_type": "code",
   "execution_count": 6,
   "metadata": {},
   "outputs": [
    {
     "data": {
      "image/png": "[encoded data removed]",
      "text/plain": [
       "<Figure size 1584x576 with 1 Axes>"
      ]
     },
     "metadata": {
      "needs_background": "light"
     },
     "output_type": "display_data"
    }
   ],
   "source": [
    "df_rmse_arima = pd.DataFrame(RMSE_arima)\n",
    "df_rmse_arima['p'] = [6, 8, 10]\n",
    "df_rmse_arima.set_index('p', inplace=True)\n",
    "df_rmse_arima = df_rmse_arima.T\n",
    "\n",
    "df_rmse_arima.plot.bar(rot=30, figsize =(22,8), title=\"P parameter in ARIMA for DAX.\");"
   ]
  },
  {
   "cell_type": "code",
   "execution_count": 11,
   "metadata": {},
   "outputs": [
    {
     "data": {
      "image/png": "[encoded data removed]",
      "text/plain": [
       "<Figure size 432x288 with 1 Axes>"
      ]
     },
     "metadata": {
      "needs_background": "light"
     },
     "output_type": "display_data"
    }
   ],
   "source": [
    "df_rmse_arima['Best Method'] = df_rmse_arima.T.idxmin()\n",
    "\n",
    "df_rmse_arima['Best Method'].T.value_counts().plot(kind='barh')\n",
    "plt.title(\"ARIMA Hyperparameter tunning - \\nCompanies with best RMSE metric based on p.\", fontweight='bold')\n",
    "plt.xticks(range(0, 20, 2))\n",
    "plt.ylabel('p - parameter')\n",
    "plt.xlabel(\"Number of companies\");"
   ]
  },
  {
   "cell_type": "markdown",
   "metadata": {},
   "source": [
    "#### Results - ARIMA\n",
    "\n",
    "The best combination for the 3 analyzed symbols are:\n",
    "- p = 6\n",
    "- d = 1\n",
    "- q = 0\n",
    "\n",
    "p = 6 was the best for 18 symbols out of 30. That's why we will choose this value for the final parameters of the benchmark model."
   ]
  },
  {
   "cell_type": "markdown",
   "metadata": {},
   "source": [
    "## 2. Prophet model \n",
    "\n",
    "Prophet will have tunned the daily_seasonality and yearly_seasonality with True or False as possible values. When the value is True, the seasonality is forced. The hyperparameter tunning for prophet will combine those 2 parameters with 4 test."
   ]
  },
  {
   "cell_type": "code",
   "execution_count": 4,
   "metadata": {},
   "outputs": [],
   "source": [
    "def hyperparameter_tunning_prophet(df, symbol, daily_seasonality, yearly_sesonality):\n",
    "    k, horizon = 8, 5\n",
    "    end_value_fold = int(len(df[symbol]['Adj Close'].dropna())/k)\n",
    "    RMSE_error_total, RMSE = [], []\n",
    "\n",
    "    for daily in daily_seasonality:\n",
    "        for yearly in yearly_sesonality:\n",
    "            for current_k in range(k-1):\n",
    "                RMSE_error_total.append(run_prophet_model(horizon, current_k, end_value_fold, df[symbol].dropna(), 'Adj Close', daily, yearly))\n",
    "\n",
    "            rmse_mean = sum(RMSE_error_total)/(k-1)\n",
    "            print(f\"- The average RMSE of symbol {symbol} of the CV with {k}-fold with hyperparameters daily={daily}, yearly={yearly} is: {rmse_mean}\")\n",
    "            RMSE.append(rmse_mean)\n",
    "            RMSE_error_total = []\n",
    "        \n",
    "    return RMSE\n"
   ]
  },
  {
   "cell_type": "code",
   "execution_count": 13,
   "metadata": {},
   "outputs": [
    {
     "name": "stdout",
     "output_type": "stream",
     "text": [
      "- The average RMSE of symbol 1COV.DE of the CV with 8-fold with hyperparameters daily=True, yearly=True is: 3.938092090363407\n",
      "- The average RMSE of symbol 1COV.DE of the CV with 8-fold with hyperparameters daily=True, yearly=False is: 4.166519596453656\n",
      "- The average RMSE of symbol 1COV.DE of the CV with 8-fold with hyperparameters daily=False, yearly=True is: 3.56347956386555\n",
      "- The average RMSE of symbol 1COV.DE of the CV with 8-fold with hyperparameters daily=False, yearly=False is: 3.797872928079344\n",
      "\n",
      "- The average RMSE of symbol ADS.DE of the CV with 8-fold with hyperparameters daily=True, yearly=True is: 7.727691566891047\n",
      "- The average RMSE of symbol ADS.DE of the CV with 8-fold with hyperparameters daily=True, yearly=False is: 12.22192729327443\n",
      "- The average RMSE of symbol ADS.DE of the CV with 8-fold with hyperparameters daily=False, yearly=True is: 9.448269896402836\n",
      "- The average RMSE of symbol ADS.DE of the CV with 8-fold with hyperparameters daily=False, yearly=False is: 12.478006096044734\n",
      "\n",
      "- The average RMSE of symbol ALV.DE of the CV with 8-fold with hyperparameters daily=True, yearly=True is: 8.734051168206394\n",
      "- The average RMSE of symbol ALV.DE of the CV with 8-fold with hyperparameters daily=True, yearly=False is: 6.050979721499034\n",
      "- The average RMSE of symbol ALV.DE of the CV with 8-fold with hyperparameters daily=False, yearly=True is: 8.502147664014512\n",
      "- The average RMSE of symbol ALV.DE of the CV with 8-fold with hyperparameters daily=False, yearly=False is: 5.851758119326543\n",
      "\n",
      "- The average RMSE of symbol BAS.DE of the CV with 8-fold with hyperparameters daily=True, yearly=True is: 4.092839189861575\n",
      "- The average RMSE of symbol BAS.DE of the CV with 8-fold with hyperparameters daily=True, yearly=False is: 3.229065951274872\n",
      "- The average RMSE of symbol BAS.DE of the CV with 8-fold with hyperparameters daily=False, yearly=True is: 4.119539161031716\n",
      "- The average RMSE of symbol BAS.DE of the CV with 8-fold with hyperparameters daily=False, yearly=False is: 3.179757982370845\n",
      "\n",
      "- The average RMSE of symbol BAYN.DE of the CV with 8-fold with hyperparameters daily=True, yearly=True is: 3.023732024673734\n",
      "- The average RMSE of symbol BAYN.DE of the CV with 8-fold with hyperparameters daily=True, yearly=False is: 3.90328903965627\n",
      "- The average RMSE of symbol BAYN.DE of the CV with 8-fold with hyperparameters daily=False, yearly=True is: 3.5606752392587215\n",
      "- The average RMSE of symbol BAYN.DE of the CV with 8-fold with hyperparameters daily=False, yearly=False is: 4.260033009092603\n",
      "\n",
      "- The average RMSE of symbol BEI.DE of the CV with 8-fold with hyperparameters daily=True, yearly=True is: 2.771937492954026\n",
      "- The average RMSE of symbol BEI.DE of the CV with 8-fold with hyperparameters daily=True, yearly=False is: 4.221156978309541\n",
      "- The average RMSE of symbol BEI.DE of the CV with 8-fold with hyperparameters daily=False, yearly=True is: 2.486799335453204\n",
      "- The average RMSE of symbol BEI.DE of the CV with 8-fold with hyperparameters daily=False, yearly=False is: 4.229909269949823\n",
      "\n",
      "- The average RMSE of symbol BMW.DE of the CV with 8-fold with hyperparameters daily=True, yearly=True is: 4.646494717188365\n",
      "- The average RMSE of symbol BMW.DE of the CV with 8-fold with hyperparameters daily=True, yearly=False is: 3.6307193991622\n",
      "- The average RMSE of symbol BMW.DE of the CV with 8-fold with hyperparameters daily=False, yearly=True is: 5.88039571955669\n",
      "- The average RMSE of symbol BMW.DE of the CV with 8-fold with hyperparameters daily=False, yearly=False is: 4.5836663674885285\n",
      "\n",
      "- The average RMSE of symbol CON.DE of the CV with 8-fold with hyperparameters daily=True, yearly=True is: 8.68252485634566\n",
      "- The average RMSE of symbol CON.DE of the CV with 8-fold with hyperparameters daily=True, yearly=False is: 9.743001177640199\n",
      "- The average RMSE of symbol CON.DE of the CV with 8-fold with hyperparameters daily=False, yearly=True is: 9.689341224959557\n",
      "- The average RMSE of symbol CON.DE of the CV with 8-fold with hyperparameters daily=False, yearly=False is: 11.071087467185208\n",
      "\n"
     ]
    },
    {
     "name": "stderr",
     "output_type": "stream",
     "text": [
      "WARNING:fbprophet.models:Optimization terminated abnormally. Falling back to Newton.\n"
     ]
    },
    {
     "name": "stdout",
     "output_type": "stream",
     "text": [
      "- The average RMSE of symbol DAI.DE of the CV with 8-fold with hyperparameters daily=True, yearly=True is: 3.888546971823473\n",
      "- The average RMSE of symbol DAI.DE of the CV with 8-fold with hyperparameters daily=True, yearly=False is: 2.743127907699796\n"
     ]
    },
    {
     "name": "stderr",
     "output_type": "stream",
     "text": [
      "WARNING:fbprophet.models:Optimization terminated abnormally. Falling back to Newton.\n"
     ]
    },
    {
     "name": "stdout",
     "output_type": "stream",
     "text": [
      "- The average RMSE of symbol DAI.DE of the CV with 8-fold with hyperparameters daily=False, yearly=True is: 10.182200596174024\n",
      "- The average RMSE of symbol DAI.DE of the CV with 8-fold with hyperparameters daily=False, yearly=False is: 3.1466897090480717\n",
      "\n",
      "- The average RMSE of symbol DB1.DE of the CV with 8-fold with hyperparameters daily=True, yearly=True is: 3.165140902803461\n",
      "- The average RMSE of symbol DB1.DE of the CV with 8-fold with hyperparameters daily=True, yearly=False is: 2.8631218880814404\n",
      "- The average RMSE of symbol DB1.DE of the CV with 8-fold with hyperparameters daily=False, yearly=True is: 3.173452915492802\n",
      "- The average RMSE of symbol DB1.DE of the CV with 8-fold with hyperparameters daily=False, yearly=False is: 2.8023784680928876\n",
      "\n",
      "- The average RMSE of symbol DBK.DE of the CV with 8-fold with hyperparameters daily=True, yearly=True is: 1.0340491602045325\n",
      "- The average RMSE of symbol DBK.DE of the CV with 8-fold with hyperparameters daily=True, yearly=False is: 1.1073912097722336\n",
      "- The average RMSE of symbol DBK.DE of the CV with 8-fold with hyperparameters daily=False, yearly=True is: 1.4861542990270837\n",
      "- The average RMSE of symbol DBK.DE of the CV with 8-fold with hyperparameters daily=False, yearly=False is: 1.112370429379506\n",
      "\n",
      "- The average RMSE of symbol DHER.DE of the CV with 8-fold with hyperparameters daily=True, yearly=True is: 3.649966902823443\n",
      "- The average RMSE of symbol DHER.DE of the CV with 8-fold with hyperparameters daily=True, yearly=False is: 2.700509451489237\n",
      "- The average RMSE of symbol DHER.DE of the CV with 8-fold with hyperparameters daily=False, yearly=True is: 4.892729514085473\n",
      "- The average RMSE of symbol DHER.DE of the CV with 8-fold with hyperparameters daily=False, yearly=False is: 2.8885747235252697\n",
      "\n",
      "- The average RMSE of symbol DPW.DE of the CV with 8-fold with hyperparameters daily=True, yearly=True is: 1.4267470068892993\n",
      "- The average RMSE of symbol DPW.DE of the CV with 8-fold with hyperparameters daily=True, yearly=False is: 1.2277972597933677\n",
      "- The average RMSE of symbol DPW.DE of the CV with 8-fold with hyperparameters daily=False, yearly=True is: 1.4671295204496204\n",
      "- The average RMSE of symbol DPW.DE of the CV with 8-fold with hyperparameters daily=False, yearly=False is: 1.3252241958816409\n",
      "\n",
      "- The average RMSE of symbol DTE.DE of the CV with 8-fold with hyperparameters daily=True, yearly=True is: 0.4361035616368441\n",
      "- The average RMSE of symbol DTE.DE of the CV with 8-fold with hyperparameters daily=True, yearly=False is: 0.5498691683469897\n",
      "- The average RMSE of symbol DTE.DE of the CV with 8-fold with hyperparameters daily=False, yearly=True is: 0.47678335291342705\n",
      "- The average RMSE of symbol DTE.DE of the CV with 8-fold with hyperparameters daily=False, yearly=False is: 0.5578263929619542\n",
      "\n",
      "- The average RMSE of symbol DWNI.DE of the CV with 8-fold with hyperparameters daily=True, yearly=True is: 1.5519569701444043\n",
      "- The average RMSE of symbol DWNI.DE of the CV with 8-fold with hyperparameters daily=True, yearly=False is: 1.4793743957904137\n",
      "- The average RMSE of symbol DWNI.DE of the CV with 8-fold with hyperparameters daily=False, yearly=True is: 1.4978431733151365\n",
      "- The average RMSE of symbol DWNI.DE of the CV with 8-fold with hyperparameters daily=False, yearly=False is: 1.5601461303818014\n",
      "\n",
      "- The average RMSE of symbol EOAN.DE of the CV with 8-fold with hyperparameters daily=True, yearly=True is: 0.26059500935840985\n",
      "- The average RMSE of symbol EOAN.DE of the CV with 8-fold with hyperparameters daily=True, yearly=False is: 0.5525588298119571\n",
      "- The average RMSE of symbol EOAN.DE of the CV with 8-fold with hyperparameters daily=False, yearly=True is: 0.3391819351365175\n",
      "- The average RMSE of symbol EOAN.DE of the CV with 8-fold with hyperparameters daily=False, yearly=False is: 0.555426628273186\n",
      "\n",
      "- The average RMSE of symbol FME.DE of the CV with 8-fold with hyperparameters daily=True, yearly=True is: 2.8058688308755597\n",
      "- The average RMSE of symbol FME.DE of the CV with 8-fold with hyperparameters daily=True, yearly=False is: 4.084888487823478\n",
      "- The average RMSE of symbol FME.DE of the CV with 8-fold with hyperparameters daily=False, yearly=True is: 3.0210999654941806\n",
      "- The average RMSE of symbol FME.DE of the CV with 8-fold with hyperparameters daily=False, yearly=False is: 4.334052424917469\n",
      "\n",
      "- The average RMSE of symbol FRE.DE of the CV with 8-fold with hyperparameters daily=True, yearly=True is: 2.0703176529273364\n",
      "- The average RMSE of symbol FRE.DE of the CV with 8-fold with hyperparameters daily=True, yearly=False is: 3.116673189802039\n",
      "- The average RMSE of symbol FRE.DE of the CV with 8-fold with hyperparameters daily=False, yearly=True is: 2.2462581898815555\n",
      "- The average RMSE of symbol FRE.DE of the CV with 8-fold with hyperparameters daily=False, yearly=False is: 3.340606857694378\n",
      "\n",
      "- The average RMSE of symbol HEI.DE of the CV with 8-fold with hyperparameters daily=True, yearly=True is: 4.006044937672567\n",
      "- The average RMSE of symbol HEI.DE of the CV with 8-fold with hyperparameters daily=True, yearly=False is: 4.305202200198822\n",
      "- The average RMSE of symbol HEI.DE of the CV with 8-fold with hyperparameters daily=False, yearly=True is: 4.1369890107698515\n",
      "- The average RMSE of symbol HEI.DE of the CV with 8-fold with hyperparameters daily=False, yearly=False is: 4.620137124143535\n",
      "\n",
      "- The average RMSE of symbol HEN3.DE of the CV with 8-fold with hyperparameters daily=True, yearly=True is: 2.2810194986477375\n",
      "- The average RMSE of symbol HEN3.DE of the CV with 8-fold with hyperparameters daily=True, yearly=False is: 2.71171809592317\n",
      "- The average RMSE of symbol HEN3.DE of the CV with 8-fold with hyperparameters daily=False, yearly=True is: 2.0816731073037444\n",
      "- The average RMSE of symbol HEN3.DE of the CV with 8-fold with hyperparameters daily=False, yearly=False is: 2.582496429047997\n",
      "\n",
      "- The average RMSE of symbol SIE.DE of the CV with 8-fold with hyperparameters daily=True, yearly=True is: 4.758590662975651\n",
      "- The average RMSE of symbol SIE.DE of the CV with 8-fold with hyperparameters daily=True, yearly=False is: 4.585689952930104\n",
      "- The average RMSE of symbol SIE.DE of the CV with 8-fold with hyperparameters daily=False, yearly=True is: 4.623770865375027\n",
      "- The average RMSE of symbol SIE.DE of the CV with 8-fold with hyperparameters daily=False, yearly=False is: 4.631233682943267\n",
      "\n",
      "- The average RMSE of symbol SAP.DE of the CV with 8-fold with hyperparameters daily=True, yearly=True is: 4.05359767927\n",
      "- The average RMSE of symbol SAP.DE of the CV with 8-fold with hyperparameters daily=True, yearly=False is: 4.317482109300236\n",
      "- The average RMSE of symbol SAP.DE of the CV with 8-fold with hyperparameters daily=False, yearly=True is: 4.794687859006209\n",
      "- The average RMSE of symbol SAP.DE of the CV with 8-fold with hyperparameters daily=False, yearly=False is: 4.271897732736592\n",
      "\n",
      "- The average RMSE of symbol IFX.DE of the CV with 8-fold with hyperparameters daily=True, yearly=True is: 0.9963430542361211\n",
      "- The average RMSE of symbol IFX.DE of the CV with 8-fold with hyperparameters daily=True, yearly=False is: 1.1266772210735543\n",
      "- The average RMSE of symbol IFX.DE of the CV with 8-fold with hyperparameters daily=False, yearly=True is: 1.1122549541941822\n",
      "- The average RMSE of symbol IFX.DE of the CV with 8-fold with hyperparameters daily=False, yearly=False is: 1.119498680243985\n",
      "\n",
      "- The average RMSE of symbol LIN.DE of the CV with 8-fold with hyperparameters daily=True, yearly=True is: 3.5933616623873066\n",
      "- The average RMSE of symbol LIN.DE of the CV with 8-fold with hyperparameters daily=True, yearly=False is: 4.297167754299253\n",
      "- The average RMSE of symbol LIN.DE of the CV with 8-fold with hyperparameters daily=False, yearly=True is: 3.6283624389183626\n",
      "- The average RMSE of symbol LIN.DE of the CV with 8-fold with hyperparameters daily=False, yearly=False is: 4.360457657824609\n",
      "\n",
      "- The average RMSE of symbol MURGY of the CV with 8-fold with hyperparameters daily=True, yearly=True is: 1.1036926051074718\n",
      "- The average RMSE of symbol MURGY of the CV with 8-fold with hyperparameters daily=True, yearly=False is: 0.9274734265146815\n",
      "- The average RMSE of symbol MURGY of the CV with 8-fold with hyperparameters daily=False, yearly=True is: 1.0975234598118464\n",
      "- The average RMSE of symbol MURGY of the CV with 8-fold with hyperparameters daily=False, yearly=False is: 0.9341502267964478\n",
      "\n",
      "- The average RMSE of symbol MRK.DE of the CV with 8-fold with hyperparameters daily=True, yearly=True is: 2.1709060937797586\n",
      "- The average RMSE of symbol MRK.DE of the CV with 8-fold with hyperparameters daily=True, yearly=False is: 3.3380482526800788\n",
      "- The average RMSE of symbol MRK.DE of the CV with 8-fold with hyperparameters daily=False, yearly=True is: 2.9060217754068907\n",
      "- The average RMSE of symbol MRK.DE of the CV with 8-fold with hyperparameters daily=False, yearly=False is: 3.727015546422888\n",
      "\n",
      "- The average RMSE of symbol MTX.F of the CV with 8-fold with hyperparameters daily=True, yearly=True is: 3.866559657278394\n",
      "- The average RMSE of symbol MTX.F of the CV with 8-fold with hyperparameters daily=True, yearly=False is: 6.25290576981885\n",
      "- The average RMSE of symbol MTX.F of the CV with 8-fold with hyperparameters daily=False, yearly=True is: 4.9869356228840624\n",
      "- The average RMSE of symbol MTX.F of the CV with 8-fold with hyperparameters daily=False, yearly=False is: 6.357853120198179\n",
      "\n",
      "- The average RMSE of symbol RWE.DE of the CV with 8-fold with hyperparameters daily=True, yearly=True is: 0.6780042807843019\n",
      "- The average RMSE of symbol RWE.DE of the CV with 8-fold with hyperparameters daily=True, yearly=False is: 1.1252691287726724\n",
      "- The average RMSE of symbol RWE.DE of the CV with 8-fold with hyperparameters daily=False, yearly=True is: 1.0584437359391015\n",
      "- The average RMSE of symbol RWE.DE of the CV with 8-fold with hyperparameters daily=False, yearly=False is: 1.1333141228822015\n",
      "\n",
      "- The average RMSE of symbol VNA.DE of the CV with 8-fold with hyperparameters daily=True, yearly=True is: 1.6733313035691706\n",
      "- The average RMSE of symbol VNA.DE of the CV with 8-fold with hyperparameters daily=True, yearly=False is: 1.6612372092868621\n",
      "- The average RMSE of symbol VNA.DE of the CV with 8-fold with hyperparameters daily=False, yearly=True is: 1.6790639842958353\n",
      "- The average RMSE of symbol VNA.DE of the CV with 8-fold with hyperparameters daily=False, yearly=False is: 1.6474638384630065\n",
      "\n",
      "- The average RMSE of symbol VOW.DE of the CV with 8-fold with hyperparameters daily=True, yearly=True is: 8.43836110541935\n",
      "- The average RMSE of symbol VOW.DE of the CV with 8-fold with hyperparameters daily=True, yearly=False is: 8.756905985790885\n",
      "- The average RMSE of symbol VOW.DE of the CV with 8-fold with hyperparameters daily=False, yearly=True is: 9.502620052179433\n",
      "- The average RMSE of symbol VOW.DE of the CV with 8-fold with hyperparameters daily=False, yearly=False is: 9.10838480754008\n",
      "\n"
     ]
    }
   ],
   "source": [
    "RMSE_prophet = {}\n",
    "\n",
    "for symbol in LIST_DAX_COMPANIES[:]:\n",
    "    RMSE_prophet[symbol] = hyperparameter_tunning_prophet(df_imputed_linear, symbol, daily_seasonality=[True, False], yearly_sesonality=[True, False])\n",
    "    print('')"
   ]
  },
  {
   "cell_type": "code",
   "execution_count": 14,
   "metadata": {},
   "outputs": [
    {
     "data": {
      "image/png": "[encoded data removed]",
      "text/plain": [
       "<Figure size 1440x576 with 1 Axes>"
      ]
     },
     "metadata": {
      "needs_background": "light"
     },
     "output_type": "display_data"
    }
   ],
   "source": [
    "df_rmse_prophet = pd.DataFrame(RMSE_prophet)\n",
    "df_rmse_prophet['daily-yearly'] = ['True-True', 'True-False', 'False-True', 'False-False']\n",
    "df_rmse_prophet.set_index('daily-yearly', inplace=True)\n",
    "df_rmse_prophet = df_rmse_prophet.T\n",
    "\n",
    "df_rmse_prophet.plot.bar(rot=30, figsize=(20,8), title=\"Daily-yearly parameter in Prophet for DAX.\");"
   ]
  },
  {
   "cell_type": "code",
   "execution_count": 15,
   "metadata": {},
   "outputs": [
    {
     "data": {
      "image/png": "[encoded data removed]",
      "text/plain": [
       "<Figure size 432x288 with 1 Axes>"
      ]
     },
     "metadata": {
      "needs_background": "light"
     },
     "output_type": "display_data"
    }
   ],
   "source": [
    "df_rmse_prophet['Best Method'] = df_rmse_prophet.T.idxmin()\n",
    "\n",
    "df_rmse_prophet['Best Method'].T.value_counts().plot(kind='barh')\n",
    "plt.title(\"Prophet Hyperparameter tunning - \\nCompanies with best RMSE metric based on daily-yearly.\")\n",
    "plt.xticks(range(0, 20, 2))\n",
    "plt.ylabel(\"Combination of parameters daily - yearly seasionality.\")\n",
    "plt.xlabel(\"Number of companies\");"
   ]
  },
  {
   "cell_type": "markdown",
   "metadata": {},
   "source": [
    "#### Results - Prophet\n",
    "\n",
    "The best combination for the all the symbols are:\n",
    "    \n",
    "- daily_seasonality: True\n",
    "- yearly_seasonality: True\n",
    "\n",
    "The combination True-True was the best for 16 symbols out of 30. That's why we will choose this combination of values for the final parameters of the Prophet model."
   ]
  },
  {
   "cell_type": "markdown",
   "metadata": {},
   "source": [
    "## 3. LSTM Neural Network model \n",
    "\n",
    "The first **parameter** to tune over 3 different symbols (limit number of symbols due to the processing time) will be:\n",
    "\n",
    "- epochs: [50, 80, 100]\n",
    "\n",
    "Then we will identify what is the **best model** from:\n",
    "\n",
    "* LSTM with 1 Layer - LSTM_1\n",
    "* LSTM with 2 layers - LSTM_2\n",
    "* LSTM with 3 layers - LSTM_3\n",
    "* LSTM with 4 layers - LSTM_4\n",
    "* Bidirection LSTM - LSTM_BI \n",
    "\n",
    "After then model is chosen, the **hyperparameters** will be tunned again:\n",
    "\n",
    "- time_steps: [15, 30, 60]\n",
    "- units: [40, 50]\n",
    "- dropout: [0.2, 0.4], if it's needed.\n"
   ]
  },
  {
   "cell_type": "code",
   "execution_count": 5,
   "metadata": {},
   "outputs": [],
   "source": [
    "def hyperparameter_tunning_lstm(df, symbol, model_type, time_steps_list, units_list, dropout_list, epochs_list):\n",
    "    k, horizon = 8, 5\n",
    "    end_value_fold = int(len(df[symbol]['Adj Close'].dropna())/k)\n",
    "    RMSE_error_total, RMSE = [], []\n",
    "    \n",
    "    for time_steps in time_steps_list:\n",
    "        for units in units_list:\n",
    "            for dropout in dropout_list:\n",
    "                for epochs in epochs_list:\n",
    "    \n",
    "                    for current_k in range(k-1):\n",
    "                        RMSE_error_total.append(run_sequential_lstm_model(horizon, current_k, end_value_fold, df[symbol].dropna(), 'Adj Close', model_type, time_steps, units, dropout, epochs))\n",
    "                \n",
    "                    rmse_mean = sum(RMSE_error_total)/(k-1)\n",
    "                    \n",
    "                    RMSE.append(rmse_mean)\n",
    "                    print(f\"---> The average RMSE of symbol {symbol} of the CV with {k}-fold with hyperparameters time_steps={time_steps}, units={units}, dropout={dropout}, epochs={epochs} is: {rmse_mean}\")\n",
    "                    RMSE_error_total = []\n",
    "    return RMSE"
   ]
  },
  {
   "cell_type": "code",
   "execution_count": 7,
   "metadata": {},
   "outputs": [
    {
     "name": "stdout",
     "output_type": "stream",
     "text": [
      "---> The average RMSE of symbol 1COV.DE of the CV with 8-fold with hyperparameters time_steps=30, units=50, dropout=0.2, epochs=50 is: 3.012201346721901\n",
      "---> The average RMSE of symbol 1COV.DE of the CV with 8-fold with hyperparameters time_steps=30, units=50, dropout=0.2, epochs=80 is: 2.286923599630612\n",
      "---> The average RMSE of symbol 1COV.DE of the CV with 8-fold with hyperparameters time_steps=30, units=50, dropout=0.2, epochs=100 is: 2.3454350572418363\n",
      "\n",
      "---> The average RMSE of symbol ADS.DE of the CV with 8-fold with hyperparameters time_steps=30, units=50, dropout=0.2, epochs=50 is: 8.752104616061933\n",
      "---> The average RMSE of symbol ADS.DE of the CV with 8-fold with hyperparameters time_steps=30, units=50, dropout=0.2, epochs=80 is: 8.193766227983255\n",
      "---> The average RMSE of symbol ADS.DE of the CV with 8-fold with hyperparameters time_steps=30, units=50, dropout=0.2, epochs=100 is: 6.669786282477268\n",
      "\n",
      "---> The average RMSE of symbol ALV.DE of the CV with 8-fold with hyperparameters time_steps=30, units=50, dropout=0.2, epochs=50 is: 6.319367123412673\n",
      "---> The average RMSE of symbol ALV.DE of the CV with 8-fold with hyperparameters time_steps=30, units=50, dropout=0.2, epochs=80 is: 5.774299860170697\n",
      "---> The average RMSE of symbol ALV.DE of the CV with 8-fold with hyperparameters time_steps=30, units=50, dropout=0.2, epochs=100 is: 6.330436848434035\n",
      "\n",
      "---> The average RMSE of symbol BAS.DE of the CV with 8-fold with hyperparameters time_steps=30, units=50, dropout=0.2, epochs=50 is: 2.3920653336540307\n",
      "---> The average RMSE of symbol BAS.DE of the CV with 8-fold with hyperparameters time_steps=30, units=50, dropout=0.2, epochs=80 is: 1.8664255319502814\n",
      "---> The average RMSE of symbol BAS.DE of the CV with 8-fold with hyperparameters time_steps=30, units=50, dropout=0.2, epochs=100 is: 1.8998035163061715\n",
      "\n",
      "---> The average RMSE of symbol BAYN.DE of the CV with 8-fold with hyperparameters time_steps=30, units=50, dropout=0.2, epochs=50 is: 2.301598674849754\n",
      "---> The average RMSE of symbol BAYN.DE of the CV with 8-fold with hyperparameters time_steps=30, units=50, dropout=0.2, epochs=80 is: 2.1582133208599203\n",
      "---> The average RMSE of symbol BAYN.DE of the CV with 8-fold with hyperparameters time_steps=30, units=50, dropout=0.2, epochs=100 is: 2.0421471517305028\n",
      "\n",
      "---> The average RMSE of symbol BEI.DE of the CV with 8-fold with hyperparameters time_steps=30, units=50, dropout=0.2, epochs=50 is: 3.0463306159361636\n",
      "---> The average RMSE of symbol BEI.DE of the CV with 8-fold with hyperparameters time_steps=30, units=50, dropout=0.2, epochs=80 is: 2.6638511211308287\n",
      "---> The average RMSE of symbol BEI.DE of the CV with 8-fold with hyperparameters time_steps=30, units=50, dropout=0.2, epochs=100 is: 2.9417937069347793\n",
      "\n",
      "---> The average RMSE of symbol BMW.DE of the CV with 8-fold with hyperparameters time_steps=30, units=50, dropout=0.2, epochs=50 is: 1.7629284737763022\n",
      "---> The average RMSE of symbol BMW.DE of the CV with 8-fold with hyperparameters time_steps=30, units=50, dropout=0.2, epochs=80 is: 1.5655956833952485\n",
      "---> The average RMSE of symbol BMW.DE of the CV with 8-fold with hyperparameters time_steps=30, units=50, dropout=0.2, epochs=100 is: 1.505493790630045\n",
      "\n",
      "---> The average RMSE of symbol CON.DE of the CV with 8-fold with hyperparameters time_steps=30, units=50, dropout=0.2, epochs=50 is: 4.228100456435068\n",
      "---> The average RMSE of symbol CON.DE of the CV with 8-fold with hyperparameters time_steps=30, units=50, dropout=0.2, epochs=80 is: 2.777815208569174\n",
      "---> The average RMSE of symbol CON.DE of the CV with 8-fold with hyperparameters time_steps=30, units=50, dropout=0.2, epochs=100 is: 2.7050612382519956\n",
      "\n",
      "---> The average RMSE of symbol DAI.DE of the CV with 8-fold with hyperparameters time_steps=30, units=50, dropout=0.2, epochs=50 is: 1.2997320563306172\n",
      "---> The average RMSE of symbol DAI.DE of the CV with 8-fold with hyperparameters time_steps=30, units=50, dropout=0.2, epochs=80 is: 1.3706614085462403\n",
      "---> The average RMSE of symbol DAI.DE of the CV with 8-fold with hyperparameters time_steps=30, units=50, dropout=0.2, epochs=100 is: 1.1884621547648986\n",
      "\n",
      "---> The average RMSE of symbol DB1.DE of the CV with 8-fold with hyperparameters time_steps=30, units=50, dropout=0.2, epochs=50 is: 3.251426431795006\n",
      "---> The average RMSE of symbol DB1.DE of the CV with 8-fold with hyperparameters time_steps=30, units=50, dropout=0.2, epochs=80 is: 2.23845866934242\n",
      "---> The average RMSE of symbol DB1.DE of the CV with 8-fold with hyperparameters time_steps=30, units=50, dropout=0.2, epochs=100 is: 2.5110276282643116\n",
      "\n",
      "---> The average RMSE of symbol DBK.DE of the CV with 8-fold with hyperparameters time_steps=30, units=50, dropout=0.2, epochs=50 is: 0.7031991090604561\n",
      "---> The average RMSE of symbol DBK.DE of the CV with 8-fold with hyperparameters time_steps=30, units=50, dropout=0.2, epochs=80 is: 0.3853244795499088\n",
      "---> The average RMSE of symbol DBK.DE of the CV with 8-fold with hyperparameters time_steps=30, units=50, dropout=0.2, epochs=100 is: 0.4358191173713006\n",
      "\n",
      "---> The average RMSE of symbol DHER.DE of the CV with 8-fold with hyperparameters time_steps=30, units=50, dropout=0.2, epochs=50 is: 2.5833071599769495\n",
      "---> The average RMSE of symbol DHER.DE of the CV with 8-fold with hyperparameters time_steps=30, units=50, dropout=0.2, epochs=80 is: 2.3471910003845267\n",
      "---> The average RMSE of symbol DHER.DE of the CV with 8-fold with hyperparameters time_steps=30, units=50, dropout=0.2, epochs=100 is: 2.8958772799528956\n",
      "\n",
      "---> The average RMSE of symbol DPW.DE of the CV with 8-fold with hyperparameters time_steps=30, units=50, dropout=0.2, epochs=50 is: 0.9473138393861442\n",
      "---> The average RMSE of symbol DPW.DE of the CV with 8-fold with hyperparameters time_steps=30, units=50, dropout=0.2, epochs=80 is: 0.9740337872715646\n",
      "---> The average RMSE of symbol DPW.DE of the CV with 8-fold with hyperparameters time_steps=30, units=50, dropout=0.2, epochs=100 is: 1.0436175608327694\n",
      "\n",
      "---> The average RMSE of symbol DTE.DE of the CV with 8-fold with hyperparameters time_steps=30, units=50, dropout=0.2, epochs=50 is: 0.27095985334335565\n",
      "---> The average RMSE of symbol DTE.DE of the CV with 8-fold with hyperparameters time_steps=30, units=50, dropout=0.2, epochs=80 is: 0.20771448512215201\n",
      "---> The average RMSE of symbol DTE.DE of the CV with 8-fold with hyperparameters time_steps=30, units=50, dropout=0.2, epochs=100 is: 0.34043765455081554\n",
      "\n",
      "---> The average RMSE of symbol DWNI.DE of the CV with 8-fold with hyperparameters time_steps=30, units=50, dropout=0.2, epochs=50 is: 1.315748177736398\n",
      "---> The average RMSE of symbol DWNI.DE of the CV with 8-fold with hyperparameters time_steps=30, units=50, dropout=0.2, epochs=80 is: 1.4569662375835588\n",
      "---> The average RMSE of symbol DWNI.DE of the CV with 8-fold with hyperparameters time_steps=30, units=50, dropout=0.2, epochs=100 is: 0.7569507650869818\n",
      "\n",
      "---> The average RMSE of symbol EOAN.DE of the CV with 8-fold with hyperparameters time_steps=30, units=50, dropout=0.2, epochs=50 is: 0.22045491211760931\n",
      "---> The average RMSE of symbol EOAN.DE of the CV with 8-fold with hyperparameters time_steps=30, units=50, dropout=0.2, epochs=80 is: 0.16599200114689622\n",
      "---> The average RMSE of symbol EOAN.DE of the CV with 8-fold with hyperparameters time_steps=30, units=50, dropout=0.2, epochs=100 is: 0.12189937245590861\n",
      "\n",
      "---> The average RMSE of symbol FME.DE of the CV with 8-fold with hyperparameters time_steps=30, units=50, dropout=0.2, epochs=50 is: 1.6625872018816499\n",
      "---> The average RMSE of symbol FME.DE of the CV with 8-fold with hyperparameters time_steps=30, units=50, dropout=0.2, epochs=80 is: 1.5129849013938164\n",
      "---> The average RMSE of symbol FME.DE of the CV with 8-fold with hyperparameters time_steps=30, units=50, dropout=0.2, epochs=100 is: 1.8163668822979908\n",
      "\n",
      "---> The average RMSE of symbol FRE.DE of the CV with 8-fold with hyperparameters time_steps=30, units=50, dropout=0.2, epochs=50 is: 1.6903393614272442\n",
      "---> The average RMSE of symbol FRE.DE of the CV with 8-fold with hyperparameters time_steps=30, units=50, dropout=0.2, epochs=80 is: 1.3727826639716947\n",
      "---> The average RMSE of symbol FRE.DE of the CV with 8-fold with hyperparameters time_steps=30, units=50, dropout=0.2, epochs=100 is: 1.2527603810680064\n",
      "\n",
      "---> The average RMSE of symbol HEI.DE of the CV with 8-fold with hyperparameters time_steps=30, units=50, dropout=0.2, epochs=50 is: 2.450218512190195\n",
      "---> The average RMSE of symbol HEI.DE of the CV with 8-fold with hyperparameters time_steps=30, units=50, dropout=0.2, epochs=80 is: 2.406499692776805\n",
      "---> The average RMSE of symbol HEI.DE of the CV with 8-fold with hyperparameters time_steps=30, units=50, dropout=0.2, epochs=100 is: 1.9763269205814993\n",
      "\n",
      "---> The average RMSE of symbol HEN3.DE of the CV with 8-fold with hyperparameters time_steps=30, units=50, dropout=0.2, epochs=50 is: 3.447956037782986\n",
      "---> The average RMSE of symbol HEN3.DE of the CV with 8-fold with hyperparameters time_steps=30, units=50, dropout=0.2, epochs=80 is: 2.3150002192013552\n",
      "---> The average RMSE of symbol HEN3.DE of the CV with 8-fold with hyperparameters time_steps=30, units=50, dropout=0.2, epochs=100 is: 2.5572775163878108\n",
      "\n",
      "---> The average RMSE of symbol SIE.DE of the CV with 8-fold with hyperparameters time_steps=30, units=50, dropout=0.2, epochs=50 is: 3.9478478999493203\n",
      "---> The average RMSE of symbol SIE.DE of the CV with 8-fold with hyperparameters time_steps=30, units=50, dropout=0.2, epochs=80 is: 3.950038691098714\n",
      "---> The average RMSE of symbol SIE.DE of the CV with 8-fold with hyperparameters time_steps=30, units=50, dropout=0.2, epochs=100 is: 3.0359501531957425\n",
      "\n",
      "---> The average RMSE of symbol SAP.DE of the CV with 8-fold with hyperparameters time_steps=30, units=50, dropout=0.2, epochs=50 is: 3.347245721424916\n",
      "---> The average RMSE of symbol SAP.DE of the CV with 8-fold with hyperparameters time_steps=30, units=50, dropout=0.2, epochs=80 is: 2.9999494642287288\n",
      "---> The average RMSE of symbol SAP.DE of the CV with 8-fold with hyperparameters time_steps=30, units=50, dropout=0.2, epochs=100 is: 3.0217586546761694\n",
      "\n",
      "---> The average RMSE of symbol IFX.DE of the CV with 8-fold with hyperparameters time_steps=30, units=50, dropout=0.2, epochs=50 is: 0.6634969991795617\n",
      "---> The average RMSE of symbol IFX.DE of the CV with 8-fold with hyperparameters time_steps=30, units=50, dropout=0.2, epochs=80 is: 0.5626507807828107\n",
      "---> The average RMSE of symbol IFX.DE of the CV with 8-fold with hyperparameters time_steps=30, units=50, dropout=0.2, epochs=100 is: 0.6308421063114956\n",
      "\n",
      "---> The average RMSE of symbol LIN.DE of the CV with 8-fold with hyperparameters time_steps=30, units=50, dropout=0.2, epochs=50 is: 3.6354663214092318\n",
      "---> The average RMSE of symbol LIN.DE of the CV with 8-fold with hyperparameters time_steps=30, units=50, dropout=0.2, epochs=80 is: 2.2723646902102703\n",
      "---> The average RMSE of symbol LIN.DE of the CV with 8-fold with hyperparameters time_steps=30, units=50, dropout=0.2, epochs=100 is: 2.8661395711718427\n",
      "\n",
      "---> The average RMSE of symbol MURGY of the CV with 8-fold with hyperparameters time_steps=30, units=50, dropout=0.2, epochs=50 is: 1.0471472075106707\n",
      "---> The average RMSE of symbol MURGY of the CV with 8-fold with hyperparameters time_steps=30, units=50, dropout=0.2, epochs=80 is: 0.8358942598746341\n",
      "---> The average RMSE of symbol MURGY of the CV with 8-fold with hyperparameters time_steps=30, units=50, dropout=0.2, epochs=100 is: 0.8162547729134637\n",
      "\n",
      "---> The average RMSE of symbol MRK.DE of the CV with 8-fold with hyperparameters time_steps=30, units=50, dropout=0.2, epochs=50 is: 2.208257765681516\n",
      "---> The average RMSE of symbol MRK.DE of the CV with 8-fold with hyperparameters time_steps=30, units=50, dropout=0.2, epochs=80 is: 1.7278706395179826\n",
      "---> The average RMSE of symbol MRK.DE of the CV with 8-fold with hyperparameters time_steps=30, units=50, dropout=0.2, epochs=100 is: 1.6070805908769557\n",
      "\n",
      "---> The average RMSE of symbol MTX.F of the CV with 8-fold with hyperparameters time_steps=30, units=50, dropout=0.2, epochs=50 is: 6.030361139204286\n",
      "---> The average RMSE of symbol MTX.F of the CV with 8-fold with hyperparameters time_steps=30, units=50, dropout=0.2, epochs=80 is: 5.325132955663726\n",
      "---> The average RMSE of symbol MTX.F of the CV with 8-fold with hyperparameters time_steps=30, units=50, dropout=0.2, epochs=100 is: 5.829769070232588\n",
      "\n",
      "---> The average RMSE of symbol RWE.DE of the CV with 8-fold with hyperparameters time_steps=30, units=50, dropout=0.2, epochs=50 is: 0.8514351286663062\n",
      "---> The average RMSE of symbol RWE.DE of the CV with 8-fold with hyperparameters time_steps=30, units=50, dropout=0.2, epochs=80 is: 0.572827649944681\n",
      "---> The average RMSE of symbol RWE.DE of the CV with 8-fold with hyperparameters time_steps=30, units=50, dropout=0.2, epochs=100 is: 0.5153637174719189\n",
      "\n",
      "---> The average RMSE of symbol VNA.DE of the CV with 8-fold with hyperparameters time_steps=30, units=50, dropout=0.2, epochs=50 is: 1.3629425935504176\n",
      "---> The average RMSE of symbol VNA.DE of the CV with 8-fold with hyperparameters time_steps=30, units=50, dropout=0.2, epochs=80 is: 1.211762157300966\n",
      "---> The average RMSE of symbol VNA.DE of the CV with 8-fold with hyperparameters time_steps=30, units=50, dropout=0.2, epochs=100 is: 0.9374947308486804\n",
      "\n",
      "---> The average RMSE of symbol VOW.DE of the CV with 8-fold with hyperparameters time_steps=30, units=50, dropout=0.2, epochs=50 is: 5.993715341298706\n",
      "---> The average RMSE of symbol VOW.DE of the CV with 8-fold with hyperparameters time_steps=30, units=50, dropout=0.2, epochs=80 is: 4.005980403538937\n",
      "---> The average RMSE of symbol VOW.DE of the CV with 8-fold with hyperparameters time_steps=30, units=50, dropout=0.2, epochs=100 is: 3.9421355969795853\n",
      "\n"
     ]
    }
   ],
   "source": [
    "# tune the epochs number\n",
    "model_type = 'LSTM_1'   \n",
    "LSTM_1_rmse = {}\n",
    "\n",
    "for symbol in LIST_DAX_COMPANIES:\n",
    "    LSTM_1_rmse[symbol] = hyperparameter_tunning_lstm(df_imputed_linear, symbol, model_type, time_steps_list=[30], units_list=[50], dropout_list=[0.2], epochs_list=[50, 80, 100])\n",
    "    print('')"
   ]
  },
  {
   "cell_type": "code",
   "execution_count": 8,
   "metadata": {},
   "outputs": [
    {
     "data": {
      "image/png": "[encoded data removed]",
      "text/plain": [
       "<Figure size 1440x576 with 1 Axes>"
      ]
     },
     "metadata": {
      "needs_background": "light"
     },
     "output_type": "display_data"
    }
   ],
   "source": [
    "df_rmse_lstm = pd.DataFrame(LSTM_1_rmse)\n",
    "df_rmse_lstm['epochs'] = [50, 80, 100]\n",
    "df_rmse_lstm.set_index('epochs', inplace=True)\n",
    "df_rmse_lstm = df_rmse_lstm.T\n",
    "\n",
    "df_rmse_lstm.plot.bar(rot=30, figsize=(20,8), title=\"Epochs parameter in LSTM with 1 Layer for DAX.\");"
   ]
  },
  {
   "cell_type": "code",
   "execution_count": 12,
   "metadata": {},
   "outputs": [
    {
     "data": {
      "image/png": "[encoded data removed]",
      "text/plain": [
       "<Figure size 432x288 with 1 Axes>"
      ]
     },
     "metadata": {},
     "output_type": "display_data"
    }
   ],
   "source": [
    "df_rmse_lstm['Best Method'] = df_rmse_lstm.T.idxmin()\n",
    "\n",
    "df_rmse_lstm['Best Method'].T.value_counts().plot.pie()\n",
    "plt.title(\"LSTM Hyperparameter tunning - \\nCompanies with best RMSE metric based on epochs.\", fontweight='bold')\n",
    "plt.ylabel(\"\");"
   ]
  },
  {
   "cell_type": "code",
   "execution_count": 13,
   "metadata": {},
   "outputs": [
    {
     "name": "stdout",
     "output_type": "stream",
     "text": [
      "Computing Model LSTM_1...\n",
      "---> The average RMSE of symbol 1COV.DE of the CV with 8-fold with hyperparameters time_steps=30, units=50, dropout=0.2, epochs=90 is: 2.2445380259417225\n",
      "\n",
      "Computing Model LSTM_2...\n",
      "---> The average RMSE of symbol 1COV.DE of the CV with 8-fold with hyperparameters time_steps=30, units=50, dropout=0.2, epochs=90 is: 2.2301483888989124\n",
      "\n",
      "Computing Model LSTM_3...\n",
      "---> The average RMSE of symbol 1COV.DE of the CV with 8-fold with hyperparameters time_steps=30, units=50, dropout=0.2, epochs=90 is: 2.6128399357219996\n",
      "\n",
      "Computing Model LSTM_4...\n",
      "---> The average RMSE of symbol 1COV.DE of the CV with 8-fold with hyperparameters time_steps=30, units=50, dropout=0.2, epochs=90 is: 3.04741701073844\n",
      "\n",
      "Computing Model LSTM_BI...\n",
      "---> The average RMSE of symbol 1COV.DE of the CV with 8-fold with hyperparameters time_steps=30, units=50, dropout=0.2, epochs=90 is: 2.135612580873642\n",
      "\n"
     ]
    }
   ],
   "source": [
    "# find the best model\n",
    "model_type_list = ['LSTM_1', 'LSTM_2', 'LSTM_3','LSTM_4', 'LSTM_BI']\n",
    "\n",
    "for symbol in LIST_DAX_COMPANIES[:1]:\n",
    "    for model_type in model_type_list:\n",
    "        print(f'Computing Model {model_type}...')\n",
    "        hyperparameter_tunning_lstm(df_imputed_linear, symbol, model_type, time_steps_list=[30], units_list=[50], dropout_list=[0.2], epochs_list=[90])\n",
    "        print('')"
   ]
  },
  {
   "cell_type": "code",
   "execution_count": 16,
   "metadata": {},
   "outputs": [
    {
     "name": "stdout",
     "output_type": "stream",
     "text": [
      "---> The average RMSE of symbol 1COV.DE of the CV with 8-fold with hyperparameters time_steps=15, units=30, dropout=0.2, epochs=90 is: 2.1544394388947348\n",
      "---> The average RMSE of symbol 1COV.DE of the CV with 8-fold with hyperparameters time_steps=15, units=40, dropout=0.2, epochs=90 is: 1.9024277689933577\n",
      "---> The average RMSE of symbol 1COV.DE of the CV with 8-fold with hyperparameters time_steps=15, units=50, dropout=0.2, epochs=90 is: 2.3713708886176597\n",
      "---> The average RMSE of symbol 1COV.DE of the CV with 8-fold with hyperparameters time_steps=30, units=30, dropout=0.2, epochs=90 is: 1.782643295323625\n",
      "---> The average RMSE of symbol 1COV.DE of the CV with 8-fold with hyperparameters time_steps=30, units=40, dropout=0.2, epochs=90 is: 2.201588178104926\n",
      "---> The average RMSE of symbol 1COV.DE of the CV with 8-fold with hyperparameters time_steps=30, units=50, dropout=0.2, epochs=90 is: 2.843666811545937\n",
      "\n",
      "---> The average RMSE of symbol ADS.DE of the CV with 8-fold with hyperparameters time_steps=15, units=30, dropout=0.2, epochs=90 is: 4.9374972073807495\n",
      "---> The average RMSE of symbol ADS.DE of the CV with 8-fold with hyperparameters time_steps=15, units=40, dropout=0.2, epochs=90 is: 6.891628206512796\n",
      "---> The average RMSE of symbol ADS.DE of the CV with 8-fold with hyperparameters time_steps=15, units=50, dropout=0.2, epochs=90 is: 6.594129861240001\n",
      "---> The average RMSE of symbol ADS.DE of the CV with 8-fold with hyperparameters time_steps=30, units=30, dropout=0.2, epochs=90 is: 5.93035962717846\n",
      "---> The average RMSE of symbol ADS.DE of the CV with 8-fold with hyperparameters time_steps=30, units=40, dropout=0.2, epochs=90 is: 6.674050549822626\n",
      "---> The average RMSE of symbol ADS.DE of the CV with 8-fold with hyperparameters time_steps=30, units=50, dropout=0.2, epochs=90 is: 5.322809470727778\n",
      "\n",
      "---> The average RMSE of symbol ALV.DE of the CV with 8-fold with hyperparameters time_steps=15, units=30, dropout=0.2, epochs=90 is: 4.781074412716186\n",
      "---> The average RMSE of symbol ALV.DE of the CV with 8-fold with hyperparameters time_steps=15, units=40, dropout=0.2, epochs=90 is: 4.796950877634247\n",
      "---> The average RMSE of symbol ALV.DE of the CV with 8-fold with hyperparameters time_steps=15, units=50, dropout=0.2, epochs=90 is: 5.134400772642127\n",
      "---> The average RMSE of symbol ALV.DE of the CV with 8-fold with hyperparameters time_steps=30, units=30, dropout=0.2, epochs=90 is: 5.164128003974511\n",
      "---> The average RMSE of symbol ALV.DE of the CV with 8-fold with hyperparameters time_steps=30, units=40, dropout=0.2, epochs=90 is: 5.6568808879555785\n",
      "---> The average RMSE of symbol ALV.DE of the CV with 8-fold with hyperparameters time_steps=30, units=50, dropout=0.2, epochs=90 is: 5.929676419718346\n",
      "\n",
      "---> The average RMSE of symbol BAS.DE of the CV with 8-fold with hyperparameters time_steps=15, units=30, dropout=0.2, epochs=90 is: 1.5193071161740737\n",
      "---> The average RMSE of symbol BAS.DE of the CV with 8-fold with hyperparameters time_steps=15, units=40, dropout=0.2, epochs=90 is: 1.4195770697954342\n",
      "---> The average RMSE of symbol BAS.DE of the CV with 8-fold with hyperparameters time_steps=15, units=50, dropout=0.2, epochs=90 is: 1.7599080924861485\n",
      "---> The average RMSE of symbol BAS.DE of the CV with 8-fold with hyperparameters time_steps=30, units=30, dropout=0.2, epochs=90 is: 1.8837909105785826\n",
      "---> The average RMSE of symbol BAS.DE of the CV with 8-fold with hyperparameters time_steps=30, units=40, dropout=0.2, epochs=90 is: 1.8670838535776275\n",
      "---> The average RMSE of symbol BAS.DE of the CV with 8-fold with hyperparameters time_steps=30, units=50, dropout=0.2, epochs=90 is: 1.9586795844331653\n",
      "\n",
      "---> The average RMSE of symbol BAYN.DE of the CV with 8-fold with hyperparameters time_steps=15, units=30, dropout=0.2, epochs=90 is: 1.5171416172772665\n",
      "---> The average RMSE of symbol BAYN.DE of the CV with 8-fold with hyperparameters time_steps=15, units=40, dropout=0.2, epochs=90 is: 1.5907765848419295\n",
      "---> The average RMSE of symbol BAYN.DE of the CV with 8-fold with hyperparameters time_steps=15, units=50, dropout=0.2, epochs=90 is: 1.7903994715129898\n",
      "---> The average RMSE of symbol BAYN.DE of the CV with 8-fold with hyperparameters time_steps=30, units=30, dropout=0.2, epochs=90 is: 2.1281378830164317\n",
      "---> The average RMSE of symbol BAYN.DE of the CV with 8-fold with hyperparameters time_steps=30, units=40, dropout=0.2, epochs=90 is: 1.7687770873465598\n",
      "---> The average RMSE of symbol BAYN.DE of the CV with 8-fold with hyperparameters time_steps=30, units=50, dropout=0.2, epochs=90 is: 2.2276160515871846\n",
      "\n"
     ]
    }
   ],
   "source": [
    "# tune the other hyperparamters\n",
    "model_type = 'LSTM_BI'\n",
    "\n",
    "LSTM_bi_rmse_time = {}\n",
    "\n",
    "for symbol in LIST_DAX_COMPANIES[:5]:\n",
    "    LSTM_bi_rmse_time[symbol] = hyperparameter_tunning_lstm(df_imputed_linear, symbol, model_type, time_steps_list=[15, 30], units_list=[30, 40, 50], dropout_list=[0.2], epochs_list=[90])\n",
    "    print('')"
   ]
  },
  {
   "cell_type": "code",
   "execution_count": null,
   "metadata": {},
   "outputs": [],
   "source": [
    "## find best value "
   ]
  },
  {
   "cell_type": "code",
   "execution_count": 17,
   "metadata": {},
   "outputs": [
    {
     "data": {
      "image/png": "[encoded data removed]",
      "text/plain": [
       "<Figure size 1440x576 with 1 Axes>"
      ]
     },
     "metadata": {
      "needs_background": "light"
     },
     "output_type": "display_data"
    }
   ],
   "source": [
    "df_bilstm_rmse = pd.DataFrame(LSTM_bi_rmse_time)\n",
    "df_bilstm_rmse['time_steps-units'] = ['15-30', '15-40', '15-50', '30-30','30-40','30-50']\n",
    "df_bilstm_rmse.set_index('time_steps-units', inplace=True)\n",
    "df_bilstm_rmse = df_bilstm_rmse.T\n",
    "\n",
    "df_bilstm_rmse.plot.bar(rot=30, figsize=(20,8), title=\"Time steps-units parameter in BI-LSTM for DAX.\");"
   ]
  },
  {
   "cell_type": "code",
   "execution_count": 21,
   "metadata": {},
   "outputs": [
    {
     "data": {
      "image/png": "[encoded data removed]",
      "text/plain": [
       "<Figure size 432x288 with 1 Axes>"
      ]
     },
     "metadata": {
      "needs_background": "light"
     },
     "output_type": "display_data"
    }
   ],
   "source": [
    "df_bilstm_rmse['Best Method'] = df_bilstm_rmse.T.idxmin()\n",
    "\n",
    "df_bilstm_rmse['Best Method'].T.value_counts().plot(kind='barh')\n",
    "plt.title(\"BiDirectional LSTM Hyperparameter tunning - \\nCompanies with best RMSE metric based on time steps-units.\")\n",
    "plt.xticks(range(0, 5, 2))\n",
    "plt.ylabel(\"Combination of parameters time_steops - units.\")\n",
    "plt.xlabel(\"Number of companies\");"
   ]
  },
  {
   "cell_type": "code",
   "execution_count": 22,
   "metadata": {},
   "outputs": [
    {
     "name": "stdout",
     "output_type": "stream",
     "text": [
      "---> The average RMSE of symbol 1COV.DE of the CV with 8-fold with hyperparameters time_steps=15, units=30, dropout=0.2, epochs=50 is: 2.5147748661244766\n",
      "---> The average RMSE of symbol 1COV.DE of the CV with 8-fold with hyperparameters time_steps=15, units=30, dropout=0.2, epochs=70 is: 1.9573630440006191\n",
      "---> The average RMSE of symbol 1COV.DE of the CV with 8-fold with hyperparameters time_steps=15, units=30, dropout=0.2, epochs=80 is: 1.9071442041800233\n",
      "---> The average RMSE of symbol 1COV.DE of the CV with 8-fold with hyperparameters time_steps=15, units=30, dropout=0.2, epochs=90 is: 1.9815002956485386\n",
      "---> The average RMSE of symbol 1COV.DE of the CV with 8-fold with hyperparameters time_steps=15, units=30, dropout=0.2, epochs=100 is: 1.7261411049392883\n",
      "\n"
     ]
    }
   ],
   "source": [
    "model_type = 'LSTM_BI'\n",
    "\n",
    "## Test again the epochs to make sure it was the best also here.\n",
    "## With the best paramters.\n",
    "\n",
    "for symbol in LIST_DAX_COMPANIES[0:1]:\n",
    "    hyperparameter_tunning_lstm(df_imputed_linear, symbol, model_type, time_steps_list=[15], units_list=[30], dropout_list=[0.2], epochs_list=[50, 70, 80, 90, 100])\n",
    "    print('')"
   ]
  },
  {
   "cell_type": "markdown",
   "metadata": {},
   "source": [
    "The best parameters for Bi LSTM are:\n",
    "- time_steps = 15\n",
    "- units = 30\n",
    "- epochs=100"
   ]
  }
 ],
 "metadata": {
  "kernelspec": {
   "display_name": "Python 3",
   "language": "python",
   "name": "python3"
  },
  "language_info": {
   "codemirror_mode": {
    "name": "ipython",
    "version": 3
   },
   "file_extension": ".py",
   "mimetype": "text/x-python",
   "name": "python",
   "nbconvert_exporter": "python",
   "pygments_lexer": "ipython3",
   "version": "3.7.4"
  }
 },
 "nbformat": 4,
 "nbformat_minor": 4
}
